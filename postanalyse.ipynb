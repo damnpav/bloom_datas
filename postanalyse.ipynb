{
 "cells": [
  {
   "cell_type": "code",
   "execution_count": 84,
   "metadata": {},
   "outputs": [],
   "source": [
    "import numpy as np\n",
    "import scipy as sp\n",
    "import pandas as pd\n",
    "from pandas import ExcelWriter"
   ]
  },
  {
   "cell_type": "code",
   "execution_count": 6,
   "metadata": {},
   "outputs": [],
   "source": [
    "mf = pd.read_excel('bloom_data_clean.xlsx') #setting the frame"
   ]
  },
  {
   "cell_type": "code",
   "execution_count": 21,
   "metadata": {},
   "outputs": [],
   "source": [
    "listWithPapers = mf.axes[0].tolist()"
   ]
  },
  {
   "cell_type": "code",
   "execution_count": 16,
   "metadata": {},
   "outputs": [],
   "source": [
    "topCorr = []"
   ]
  },
  {
   "cell_type": "code",
   "execution_count": 27,
   "metadata": {},
   "outputs": [],
   "source": [
    "i = 0\n",
    "k = 0\n",
    "for i in range (40):\n",
    "    k += i\n",
    "    for k in range (40):\n",
    "        if abs(mf.iloc[i][k]) >= 0.8 and abs(mf.iloc[i][k]) != 1:\n",
    "            a = [listWithPapers[i], listWithPapers[k], mf.iloc[i][k]]\n",
    "            topCorr.append(a)\n",
    "    "
   ]
  },
  {
   "cell_type": "code",
   "execution_count": 28,
   "metadata": {},
   "outputs": [
    {
     "data": {
      "text/plain": [
       "[['audusd data.xlsx', 'Brent data.xlsx', 0.85],\n",
       " ['audusd data.xlsx', 'copper data.xlsx', 0.87],\n",
       " ['audusd data.xlsx', 'corn data.xlsx', 0.85],\n",
       " ['audusd data.xlsx', 'eurusd data.xlsx', 0.81],\n",
       " ['audusd data.xlsx', 'Gold data.xlsx', 0.86],\n",
       " ['audusd data.xlsx', 'Oats data.xlsx', 0.82],\n",
       " ['audusd data.xlsx', 'platinum data.xlsx', 0.83],\n",
       " ['audusd data.xlsx', 'Rice data.xlsx', 0.83],\n",
       " ['audusd data.xlsx', 'silver data.xlsx', 0.87],\n",
       " ['audusd data.xlsx', 'soybeans data.xlsx', 0.88],\n",
       " ['audusd data.xlsx', 'usdcad data.xlsx', -0.92],\n",
       " ['audusd data.xlsx', 'Wheat data.xlsx', 0.82],\n",
       " ['audusd data.xlsx', 'WTI data.xlsx', 0.82],\n",
       " ['Brent data.xlsx', 'copper data.xlsx', 0.93],\n",
       " ['Brent data.xlsx', 'corn data.xlsx', 0.81],\n",
       " ['Brent data.xlsx', 'Ethanol data.xlsx', 0.86],\n",
       " ['Brent data.xlsx', 'Gasoline data.xlsx', 0.8],\n",
       " ['Brent data.xlsx', 'Gold data.xlsx', 0.89],\n",
       " ['Brent data.xlsx', 'Oats data.xlsx', 0.88],\n",
       " ['Brent data.xlsx', 'platinum data.xlsx', 0.95],\n",
       " ['Brent data.xlsx', 'RTS data.xlsx', 0.89],\n",
       " ['Brent data.xlsx', 'silver data.xlsx', 0.89],\n",
       " ['Brent data.xlsx', 'soybeans data.xlsx', 0.86],\n",
       " ['Brent data.xlsx', 'usdcad data.xlsx', -0.91],\n",
       " ['Brent data.xlsx', 'Wheat data.xlsx', 0.81],\n",
       " ['Brent data.xlsx', 'WTI data.xlsx', 0.99],\n",
       " ['Canola data.xlsx', 'corn data.xlsx', 0.89],\n",
       " ['Canola data.xlsx', 'Oats data.xlsx', 0.8],\n",
       " ['Canola data.xlsx', 'soybeans data.xlsx', 0.88],\n",
       " ['Canola data.xlsx', 'Wheat data.xlsx', 0.85],\n",
       " ['Cocoa data.xlsx', 'Gold data.xlsx', 0.82],\n",
       " ['Cocoa data.xlsx', 't-notes 2 y data.xlsx', 0.82],\n",
       " ['copper data.xlsx', 'Ethanol data.xlsx', 0.87],\n",
       " ['copper data.xlsx', 'Gold data.xlsx', 0.87],\n",
       " ['copper data.xlsx', 'Oats data.xlsx', 0.85],\n",
       " ['copper data.xlsx', 'platinum data.xlsx', 0.95],\n",
       " ['copper data.xlsx', 'RTS data.xlsx', 0.93],\n",
       " ['copper data.xlsx', 'silver data.xlsx', 0.88],\n",
       " ['copper data.xlsx', 'soybeans data.xlsx', 0.81],\n",
       " ['copper data.xlsx', 'usdcad data.xlsx', -0.94],\n",
       " ['copper data.xlsx', 'Wheat data.xlsx', 0.82],\n",
       " ['copper data.xlsx', 'WTI data.xlsx', 0.92],\n",
       " ['corn data.xlsx', 'Gold data.xlsx', 0.87],\n",
       " ['corn data.xlsx', 'Oats data.xlsx', 0.87],\n",
       " ['corn data.xlsx', 'Rice data.xlsx', 0.82],\n",
       " ['corn data.xlsx', 'silver data.xlsx', 0.89],\n",
       " ['corn data.xlsx', 'soybeans data.xlsx', 0.92],\n",
       " ['corn data.xlsx', 'Wheat data.xlsx', 0.88],\n",
       " ['DAX data.xlsx', 'Russel 2000 data.xlsx', 0.9],\n",
       " ['DAX data.xlsx', 'SPX data.xlsx', 0.95],\n",
       " ['DAX data.xlsx', 'VIX.xlsx', 0.94],\n",
       " ['Ethanol data.xlsx', 'platinum data.xlsx', 0.83],\n",
       " ['Ethanol data.xlsx', 'RTS data.xlsx', 0.85],\n",
       " ['Ethanol data.xlsx', 'usdcad data.xlsx', -0.82],\n",
       " ['Ethanol data.xlsx', 'WTI data.xlsx', 0.85],\n",
       " ['eurusd data.xlsx', 'usdcad data.xlsx', -0.83],\n",
       " ['Gold data.xlsx', 'Live Cattle data.xlsx', 0.82],\n",
       " ['Gold data.xlsx', 'Oats data.xlsx', 0.85],\n",
       " ['Gold data.xlsx', 'platinum data.xlsx', 0.87],\n",
       " ['Gold data.xlsx', 'silver data.xlsx', 0.96],\n",
       " ['Gold data.xlsx', 'soybeans data.xlsx', 0.89],\n",
       " ['Gold data.xlsx', 'Sugar data.xlsx', 0.83],\n",
       " ['Gold data.xlsx', 't-notes 10 y data.xlsx', 0.85],\n",
       " ['Gold data.xlsx', 'usdcad data.xlsx', -0.84],\n",
       " ['Gold data.xlsx', 'WTI data.xlsx', 0.84],\n",
       " ['Gold data.xlsx', 'WTI-BRENT Spread data.xlsx', -0.82],\n",
       " ['Live Cattle data.xlsx', 'Russel 2000 data.xlsx', 0.93],\n",
       " ['Oats data.xlsx', 'platinum data.xlsx', 0.84],\n",
       " ['Oats data.xlsx', 'silver data.xlsx', 0.83],\n",
       " ['Oats data.xlsx', 'soybeans data.xlsx', 0.89],\n",
       " ['Oats data.xlsx', 'Wheat data.xlsx', 0.88],\n",
       " ['Oats data.xlsx', 'WTI data.xlsx', 0.86],\n",
       " ['platinum data.xlsx', 'RTS data.xlsx', 0.93],\n",
       " ['platinum data.xlsx', 'silver data.xlsx', 0.87],\n",
       " ['platinum data.xlsx', 'soybeans data.xlsx', 0.82],\n",
       " ['platinum data.xlsx', 'usdcad data.xlsx', -0.92],\n",
       " ['platinum data.xlsx', 'Wheat data.xlsx', 0.82],\n",
       " ['platinum data.xlsx', 'WTI data.xlsx', 0.95],\n",
       " ['Rice data.xlsx', 'soybeans data.xlsx', 0.89],\n",
       " ['Rice data.xlsx', 'usdcad data.xlsx', -0.81],\n",
       " ['Rice data.xlsx', 'Wheat data.xlsx', 0.83],\n",
       " ['RTS data.xlsx', 'usdcad data.xlsx', -0.9],\n",
       " ['RTS data.xlsx', 'WTI data.xlsx', 0.91],\n",
       " ['Russel 2000 data.xlsx', 'SPX data.xlsx', 0.89],\n",
       " ['Russel 2000 data.xlsx', 'VIX.xlsx', 0.89],\n",
       " ['silver data.xlsx', 'soybeans data.xlsx', 0.86],\n",
       " ['silver data.xlsx', 'Sugar data.xlsx', 0.85],\n",
       " ['silver data.xlsx', 'usdcad data.xlsx', -0.83],\n",
       " ['silver data.xlsx', 'WTI data.xlsx', 0.83],\n",
       " ['silver data.xlsx', 'WTI-BRENT Spread data.xlsx', -0.85],\n",
       " ['soybeans data.xlsx', 'usdcad data.xlsx', -0.82],\n",
       " ['soybeans data.xlsx', 'Wheat data.xlsx', 0.89],\n",
       " ['soybeans data.xlsx', 'WTI data.xlsx', 0.83],\n",
       " ['SPX data.xlsx', 'VIX.xlsx', 0.99],\n",
       " ['t-notes 10 y data.xlsx', 't-notes 2 y data.xlsx', 0.93],\n",
       " ['usdcad data.xlsx', 'Wheat data.xlsx', -0.82],\n",
       " ['usdcad data.xlsx', 'WTI data.xlsx', -0.91],\n",
       " ['Wheat data.xlsx', 'WTI data.xlsx', 0.8]]"
      ]
     },
     "execution_count": 28,
     "metadata": {},
     "output_type": "execute_result"
    }
   ],
   "source": [
    "topCorr"
   ]
  },
  {
   "cell_type": "code",
   "execution_count": 29,
   "metadata": {},
   "outputs": [
    {
     "data": {
      "text/plain": [
       "['audusd data.xlsx', 'copper data.xlsx', 0.87]"
      ]
     },
     "execution_count": 29,
     "metadata": {},
     "output_type": "execute_result"
    }
   ],
   "source": [
    "df = pd.DataFrame(columns = ['Paper1', 'Paper2', 'Corr'])"
   ]
  },
  {
   "cell_type": "code",
   "execution_count": 64,
   "metadata": {},
   "outputs": [],
   "source": [
    "for i in range(len(topCorr)):\n",
    "    df.loc[i] = topCorr[i]\n"
   ]
  },
  {
   "cell_type": "code",
   "execution_count": 68,
   "metadata": {},
   "outputs": [],
   "source": [
    "df['abs'] = abs(df[\"Corr\"])"
   ]
  },
  {
   "cell_type": "code",
   "execution_count": 73,
   "metadata": {},
   "outputs": [],
   "source": [
    "df = df.sort_values(by=['abs'], ascending=False)"
   ]
  },
  {
   "cell_type": "code",
   "execution_count": 75,
   "metadata": {},
   "outputs": [],
   "source": [
    "df = df.drop(columns = ['sort', 'abs'])"
   ]
  },
  {
   "cell_type": "code",
   "execution_count": 79,
   "metadata": {},
   "outputs": [],
   "source": [
    "numbers = []\n",
    "for i in range (len(df)):\n",
    "    numbers.append(i)"
   ]
  },
  {
   "cell_type": "code",
   "execution_count": 90,
   "metadata": {},
   "outputs": [],
   "source": [
    "df['Number'] = numbers\n",
    "df = df.set_index('Number')"
   ]
  },
  {
   "cell_type": "code",
   "execution_count": 92,
   "metadata": {},
   "outputs": [],
   "source": [
    "writer = ExcelWriter('topCorr.xlsx')\n",
    "df.to_excel(writer,'Лист1')\n",
    "writer.save()"
   ]
  },
  {
   "cell_type": "code",
   "execution_count": null,
   "metadata": {},
   "outputs": [],
   "source": []
  }
 ],
 "metadata": {
  "kernelspec": {
   "display_name": "Python 3",
   "language": "python",
   "name": "python3"
  },
  "language_info": {
   "codemirror_mode": {
    "name": "ipython",
    "version": 3
   },
   "file_extension": ".py",
   "mimetype": "text/x-python",
   "name": "python",
   "nbconvert_exporter": "python",
   "pygments_lexer": "ipython3",
   "version": "3.7.0"
  }
 },
 "nbformat": 4,
 "nbformat_minor": 2
}
